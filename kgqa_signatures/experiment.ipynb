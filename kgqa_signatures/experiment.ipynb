{
 "cells": [
  {
   "cell_type": "code",
   "execution_count": 1,
   "outputs": [],
   "source": [
    "from sklearn.metrics import precision_score\n",
    "\n",
    "from kgqa_signatures.dataset import (\n",
    "    DatasetRecord,\n",
    "    apple_ml_mkqa,\n",
    "    debug_data,\n",
    "    mintaka,\n",
    "    wikidata_simplequestions\n",
    ")\n",
    "from kgqa_signatures.signature import (\n",
    "    build_entity_signature,\n",
    "    find_neighbour_by_signature,\n",
    "    gather_answers_connections\n",
    ")\n",
    "from kgqa_signatures.wikidata.service import get_entity_one_hop_neighbours\n",
    "from kgqa_signatures.wikidata.sparql_condition import SparqlCondition"
   ],
   "metadata": {
    "collapsed": false,
    "ExecuteTime": {
     "end_time": "2023-10-15T15:05:47.351333200Z",
     "start_time": "2023-10-15T15:05:46.557336300Z"
    }
   }
  },
  {
   "cell_type": "code",
   "execution_count": 2,
   "outputs": [],
   "source": [
    "N_JOBS = 6"
   ],
   "metadata": {
    "collapsed": false,
    "ExecuteTime": {
     "end_time": "2023-10-15T15:05:47.353336500Z",
     "start_time": "2023-10-15T15:05:47.351333200Z"
    }
   }
  },
  {
   "cell_type": "code",
   "execution_count": 3,
   "outputs": [],
   "source": [
    "def process_dataset(dataset_records_provider):\n",
    "    gt_answers_entities = []\n",
    "    estimated_answers_entities = []\n",
    "\n",
    "    for record in dataset_records_provider:\n",
    "        # Step 0: some datasets don't provide entity for question, so we detect it ourselves\n",
    "        if record.question_entity is None:\n",
    "            raise Exception(\"question_entity is None\")\n",
    "\n",
    "        # Step 1: infer LLM to produce answer variants\n",
    "        if record.llm_predicted_answers is None or record.llm_predicted_answers_entities is None:\n",
    "            raise Exception(\"llm_predicted_answers is None\")\n",
    "\n",
    "        # Step 2: gather neighbours and connections of entities from all answers to common table\n",
    "        # TODO: SPARSQL returns the last object connected with from list (for example city with many head of governments)\n",
    "        gathered_connections = gather_answers_connections(record.llm_predicted_answers_entities, n_jobs=N_JOBS)\n",
    "\n",
    "        # Step 3: build signature of good entity\n",
    "        signature_table = build_entity_signature(gathered_connections)\n",
    "\n",
    "        # Step 4: get best neighbour by signature\n",
    "        answer_entity = find_neighbour_by_signature(\n",
    "            signature_table,\n",
    "            record.question_entity,\n",
    "            record.llm_predicted_answers_entities,\n",
    "            top_n_signatures=0,\n",
    "            take_all_signature_rules_with_full_match=True\n",
    "        )\n",
    "\n",
    "        # Step 5: check answer\n",
    "        gt_answers_entities.append(record.answer_entity)\n",
    "        estimated_answers_entities.append(answer_entity)\n",
    "        is_correct = answer_entity == record.answer_entity\n",
    "        print(f\"Question: {record.question} Answer_entity: {answer_entity}\"\n",
    "              f\" Is correct: {is_correct} Correct answer_entity: {record.answer_entity}\")\n",
    "\n",
    "    return precision_score(gt_answers_entities, estimated_answers_entities, average='micro')"
   ],
   "metadata": {
    "collapsed": false,
    "ExecuteTime": {
     "end_time": "2023-10-15T15:05:47.598782300Z",
     "start_time": "2023-10-15T15:05:47.586654500Z"
    }
   }
  },
  {
   "cell_type": "code",
   "execution_count": 4,
   "outputs": [
    {
     "name": "stdout",
     "output_type": "stream",
     "text": [
      "Question: What is the capital of the USA? Answer_entity: Q61 Is correct: True Correct answer_entity: Q61\n",
      "Question: What is the capital of the USA? Answer_entity: Q61 Is correct: True Correct answer_entity: Q61\n",
      "Precision: 1.0\n"
     ]
    }
   ],
   "source": [
    "# dataset_records_provider = wikidata_simplequestions(\n",
    "#     filepath=\"data/wikidata_simplequestion/annotated_wd_data_valid_answerable.txt\",\n",
    "#     llm_answers_filepath=\"data/wikidata_simplequestion/llm_result/t5xlssmnq_results_validation_linked.jsonl\"\n",
    "# )\n",
    "# dataset_records_provider = apple_ml_mkqa(\"data/apple-ml-mkqa/mkqa.jsonl\")\n",
    "# dataset_records_provider = mintaka(\"data/mintaka/mintaka_test.json\")\n",
    "dataset_records_provider = debug_data()\n",
    "precision = process_dataset(dataset_records_provider)\n",
    "print(f\"Precision: {precision}\")"
   ],
   "metadata": {
    "collapsed": false,
    "ExecuteTime": {
     "end_time": "2023-10-15T15:05:50.134294600Z",
     "start_time": "2023-10-15T15:05:48.456505600Z"
    }
   }
  },
  {
   "cell_type": "code",
   "execution_count": null,
   "outputs": [],
   "source": [],
   "metadata": {
    "collapsed": false
   }
  }
 ],
 "metadata": {
  "kernelspec": {
   "display_name": "Python 3",
   "language": "python",
   "name": "python3"
  },
  "language_info": {
   "codemirror_mode": {
    "name": "ipython",
    "version": 2
   },
   "file_extension": ".py",
   "mimetype": "text/x-python",
   "name": "python",
   "nbconvert_exporter": "python",
   "pygments_lexer": "ipython2",
   "version": "2.7.6"
  }
 },
 "nbformat": 4,
 "nbformat_minor": 0
}

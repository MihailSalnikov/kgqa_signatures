{
 "cells": [
  {
   "cell_type": "code",
   "execution_count": 1,
   "outputs": [],
   "source": [
    "from sklearn.metrics import precision_score\n",
    "\n",
    "from wikidata_processor.dataset import wikidata_simplequestions, debug_data, apple_ml_mkqa, mintaka, DatasetRecord\n",
    "from wikidata_processor.signature import build_entity_signature, find_neighbour_by_signature, gather_answers_connections\n",
    "from wikidata_processor.wikidata.service import get_entity_one_hop_neighbours\n",
    "from wikidata_processor.wikidata.sparql_condition import SparqlCondition"
   ],
   "metadata": {
    "collapsed": false,
    "ExecuteTime": {
     "end_time": "2023-10-08T14:14:20.221085800Z",
     "start_time": "2023-10-08T14:14:19.595957600Z"
    }
   }
  },
  {
   "cell_type": "code",
   "execution_count": 2,
   "outputs": [],
   "source": [
    "def process_dataset(dataset_records_provider):\n",
    "    gt_answers_entities = []\n",
    "    estimated_answers_entities = []\n",
    "\n",
    "    for record in dataset_records_provider:\n",
    "        # Step 0: some datasets don't provide entity for question, so we detect it ourselves\n",
    "        if record.question_entity is None:\n",
    "            raise Exception(\"question_entity is None\")\n",
    "\n",
    "        # Step 1: infer LLM to produce answer variants\n",
    "        if record.llm_predicted_answers is None or record.llm_predicted_answers_entities is None:\n",
    "            raise Exception(\"llm_predicted_answers is None\")\n",
    "\n",
    "        # Step 2: gather neighbours and connections of entities from all answers to common table\n",
    "        # TODO: SPARSQL returns the last object connected with from list (for example city with many head of governments)\n",
    "        gathered_connections = gather_answers_connections(record.llm_predicted_answers_entities)\n",
    "\n",
    "        # Step 3: build signature of good entity\n",
    "        signature_table = build_entity_signature(gathered_connections)\n",
    "\n",
    "        # Step 4: get best neighbour by signature\n",
    "        answer, answer_entity = find_neighbour_by_signature(\n",
    "            signature_table,\n",
    "            record.question_entity,\n",
    "            record.llm_predicted_answers_entities,\n",
    "            record.llm_predicted_answers,\n",
    "            top_n_signatures=0,\n",
    "            take_all_signature_rules_with_full_match=True\n",
    "        )\n",
    "\n",
    "        # Step 5: check answer\n",
    "        gt_answers_entities.append(record.answer_entity)\n",
    "        estimated_answers_entities.append(answer_entity)\n",
    "        is_correct = answer_entity == record.answer_entity\n",
    "        print(f\"Question: {record.question} Answer: {answer} Answer_entity: {answer_entity}\"\n",
    "              f\" Is correct: {is_correct} Correct answer_entity: {record.answer_entity}\")\n",
    "\n",
    "    return precision_score(gt_answers_entities, estimated_answers_entities, average='micro')"
   ],
   "metadata": {
    "collapsed": false,
    "ExecuteTime": {
     "end_time": "2023-10-08T14:14:20.237113900Z",
     "start_time": "2023-10-08T14:14:20.225086Z"
    }
   }
  },
  {
   "cell_type": "code",
   "execution_count": 3,
   "outputs": [
    {
     "name": "stdout",
     "output_type": "stream",
     "text": [
      "Question: What is the capital of the USA? Answer: Washington Answer_entity: Q61 Is correct: True Correct answer_entity: Q61\n",
      "Question: What is the capital of the USA? Answer: Washington Answer_entity: Q61 Is correct: True Correct answer_entity: Q61\n",
      "Precision: 1.0\n"
     ]
    }
   ],
   "source": [
    "# dataset_records_provider = wikidata_simplequestions(\n",
    "#     filepath=\"data/wikidata_simplequestion/annotated_wd_data_valid_answerable.txt\",\n",
    "#     llm_answers_filepath=\"data/wikidata_simplequestion/llm_result/sqwd_results_validation_with_el.jsonl\"\n",
    "# )\n",
    "# dataset_records_provider = apple_ml_mkqa(\"data/apple-ml-mkqa/mkqa.jsonl\")\n",
    "# dataset_records_provider = mintaka(\"data/mintaka/mintaka_test.json\")\n",
    "dataset_records_provider = debug_data()\n",
    "precision = process_dataset(dataset_records_provider)\n",
    "print(f\"Precision: {precision}\")"
   ],
   "metadata": {
    "collapsed": false,
    "ExecuteTime": {
     "end_time": "2023-10-08T14:14:27.289539600Z",
     "start_time": "2023-10-08T14:14:20.447085500Z"
    }
   }
  },
  {
   "cell_type": "code",
   "execution_count": null,
   "outputs": [],
   "source": [],
   "metadata": {
    "collapsed": false
   }
  }
 ],
 "metadata": {
  "kernelspec": {
   "display_name": "Python 3",
   "language": "python",
   "name": "python3"
  },
  "language_info": {
   "codemirror_mode": {
    "name": "ipython",
    "version": 2
   },
   "file_extension": ".py",
   "mimetype": "text/x-python",
   "name": "python",
   "nbconvert_exporter": "python",
   "pygments_lexer": "ipython2",
   "version": "2.7.6"
  }
 },
 "nbformat": 4,
 "nbformat_minor": 0
}
